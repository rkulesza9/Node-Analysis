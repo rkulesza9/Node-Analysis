{
 "cells": [
  {
   "cell_type": "markdown",
   "metadata": {},
   "source": [
    "# RNN with NodeAnalysis\n"
   ]
  },
  {
   "cell_type": "code",
   "execution_count": 37,
   "metadata": {},
   "outputs": [],
   "source": [
    "from __future__ import print_function\n",
    "\n",
    "import collections\n",
    "\n",
    "import matplotlib.pyplot as plt\n",
    "import numpy as np\n",
    "\n",
    "import tensorflow as tf\n",
    "\n",
    "from tensorflow.keras import layers\n",
    "\n",
    "import numpy as np\n",
    "import tensorflow as tf \n",
    "import random\n",
    "import time\n",
    "\n",
    "from gensim.test.utils import common_texts, get_tmpfile\n",
    "from gensim.models import Word2Vec, KeyedVectors, Phrases\n",
    "\n",
    "from nodeanalysis.NodeAnalysis import NodeAnalysisCallback\n",
    "from nodeanalysis.nodes.EmptyNode import EmptyNode\n",
    "from nodeanalysis.nodes.SimpleNeuron import SimpleNeuron\n",
    "\n",
    "from nodeanalysis.visualization.SimpleNeuronVis import showWeights, showBias\n"
   ]
  },
  {
   "cell_type": "markdown",
   "metadata": {},
   "source": [
    "## Pre-Processing"
   ]
  },
  {
   "cell_type": "code",
   "execution_count": 2,
   "metadata": {},
   "outputs": [
    {
     "name": "stdout",
     "output_type": "stream",
     "text": [
      "Loaded training data...\n"
     ]
    }
   ],
   "source": [
    "start_time = time.time()\n",
    "def elapsed(sec):\n",
    "    if sec<60:\n",
    "        return str(sec) + \" sec\"\n",
    "    elif sec<(60*60):\n",
    "        return str(sec/60) + \" min\"\n",
    "    else:\n",
    "        return str(sec/(60*60)) + \" hr\"\n",
    "\n",
    "\n",
    "# Target log path\n",
    "logs_path = 'tmp'\n",
    "#writer = tf.summary.FileWriter(logs_path)#this line was change to the line below by YKU on 05/18/20\n",
    "#writer = tf.train.SummaryWriter(logs_path)\n",
    "# Text file containing words for training\n",
    "#training_file = '..\\outputFiles\\WordCountBytecodeHex.txt' the line was changed to the following line by YKU on 05/18/20\n",
    "#training_file = 'outputFiles/WordCountBytecodeHex.txt'\n",
    "training_file = 'inputFiles/The_D_of_I.txt'\n",
    "#training_file = 'inputFiles/QuickBrownFox.txt'\n",
    "#training_file = 'inputFiles/TwoSentences.txt'\n",
    "#training_file = 'inputFiles/russian_text.txt'\n",
    "def read_data(fname):\n",
    "    with open(fname) as f:\n",
    "        content = f.readlines()\n",
    "    content = [x.strip() for x in content]\n",
    "    content = [word for i in range(len(content)) for word in content[i].split()]\n",
    "    content = np.array(content)\n",
    "    return content\n",
    "\n",
    "training_data = read_data(training_file)\n",
    "print(\"Loaded training data...\")\n",
    "\n",
    "def build_dataset(words):\n",
    "    count = collections.Counter(words).most_common()\n",
    "    dictionary = dict()\n",
    "    for word, _ in count:\n",
    "        dictionary[word] = len(dictionary)\n",
    "    reverse_dictionary = dict(zip(dictionary.values(), dictionary.keys()))\n",
    "    return dictionary, reverse_dictionary\n",
    "\n",
    "dictionary, reverse_dictionary = build_dataset(training_data)\n",
    "vocab_size = len(dictionary)\n",
    "\n",
    "# Parameters\n",
    "learning_rate = 0.001\n",
    "training_iters = 50000\n",
    "display_step = 1000\n",
    "# public static --> void main...\n",
    "# basic words to be used for prediction, coming soon......\n",
    "n_input = 3\n",
    "\n",
    "# number of units in RNN cell\n",
    "n_hidden = 512"
   ]
  },
  {
   "cell_type": "markdown",
   "metadata": {},
   "source": [
    "## Pre-Processing that I Added"
   ]
  },
  {
   "cell_type": "code",
   "execution_count": 3,
   "metadata": {},
   "outputs": [],
   "source": [
    "def encode(data, dictt):\n",
    "    return [dictt[data[x]] for x in range(0,len(data))]\n",
    "\n",
    "def group(data, num):\n",
    "    result = []\n",
    "    for i in range(0,len(data)-num+1):\n",
    "        result.append([data[i+x] for x in range(0,num)])\n",
    "    return result\n",
    "\n",
    "def expand(groups, size):\n",
    "    result = []\n",
    "    while len(result) < size:\n",
    "        for x in range(0,len(groups)):\n",
    "            result.append(groups[x])\n",
    "            if len(result) >= size:\n",
    "                break\n",
    "    return result\n",
    "\n",
    "def seperate(groups, index):\n",
    "    x = []\n",
    "    y = []\n",
    "    for a in range(0,len(groups)):\n",
    "        x.append(groups[a][:index])\n",
    "        y.append(groups[a][index:])\n",
    "    return x, y\n",
    "\n",
    "def batches(data, dictt, input_size, batch_size):\n",
    "    x, y = seperate(expand(group(encode(data,dictt),input_size+1),batch_size),input_size)\n",
    "    return np.array(x), np.array(y)"
   ]
  },
  {
   "cell_type": "markdown",
   "metadata": {},
   "source": [
    "## Word2Vector"
   ]
  },
  {
   "cell_type": "code",
   "execution_count": 4,
   "metadata": {},
   "outputs": [
    {
     "name": "stdout",
     "output_type": "stream",
     "text": [
      "starting to train word 2 vector model...\n",
      "word 2 vector model done training...\n"
     ]
    }
   ],
   "source": [
    "w2v_vector_dim = 25\n",
    "w2v_epochs = 50\n",
    "def w2v_model(data,num):\n",
    "    global w2v_vector_dim\n",
    "    global w2v_epochs\n",
    "\n",
    "    w2v_data = group(data,num)\n",
    "    model = Word2Vec(w2v_data, size=w2v_vector_dim, window=5, min_count=1, workers=4, iter=w2v_epochs)\n",
    "\n",
    "    return model\n",
    "\n",
    "print(\"starting to train word 2 vector model...\")\n",
    "w2v_input_size = 10\n",
    "w2v = w2v_model(training_data, w2v_input_size)\n",
    "w2v_dict = w2v.wv\n",
    "print(\"word 2 vector model done training...\")"
   ]
  },
  {
   "cell_type": "markdown",
   "metadata": {},
   "source": [
    "## Keras Model"
   ]
  },
  {
   "cell_type": "code",
   "execution_count": 5,
   "metadata": {},
   "outputs": [
    {
     "name": "stdout",
     "output_type": "stream",
     "text": [
      "Model: \"sequential\"\n",
      "_________________________________________________________________\n",
      "Layer (type)                 Output Shape              Param #   \n",
      "=================================================================\n",
      "rnn (RNN)                    (None, 512)               3201024   \n",
      "_________________________________________________________________\n",
      "dense (Dense)                (None, 627)               321651    \n",
      "=================================================================\n",
      "Total params: 3,522,675\n",
      "Trainable params: 3,522,675\n",
      "Non-trainable params: 0\n",
      "_________________________________________________________________\n"
     ]
    }
   ],
   "source": [
    "model = tf.keras.Sequential()\n",
    "# Add an Embedding layer expecting input vocab of size 1000, and\n",
    "# output embedding dimension of size 64.\n",
    "# model.add(layers.Embedding(vocab_size, 64, input_length=n_input)) <-- replaced by w2v\n",
    "# model.add(layers.Dense(64, input_shape=(3,10)))\n",
    "# Add a LSTM layer with 128 internal units.\n",
    "# model.add(layers.LSTM(128))\n",
    "new_shape = (n_input, w2v_vector_dim,)\n",
    "# model.add(layers.Dense(64, input_shape=new_shape))\n",
    "\n",
    "\n",
    "rnn_cell = tf.keras.layers.StackedRNNCells([tf.keras.layers.LSTMCell(n_hidden),tf.keras.layers.LSTMCell(n_hidden)])\n",
    "# model.add(layers.RNN(rnn_cell, input_length=n_input))\n",
    "model.add(layers.RNN(rnn_cell, input_shape=new_shape))\n",
    "# Add a Dense layer with 10 units.\n",
    "model.add(layers.Dense(len(dictionary)))\n",
    "\n",
    "model.summary()"
   ]
  },
  {
   "cell_type": "markdown",
   "metadata": {},
   "source": [
    "## Prepare Batches"
   ]
  },
  {
   "cell_type": "code",
   "execution_count": 6,
   "metadata": {},
   "outputs": [
    {
     "name": "stdout",
     "output_type": "stream",
     "text": [
      "(1000, 3, 25)\n",
      "(1000, 1)\n",
      "# Fit model on training data\n"
     ]
    }
   ],
   "source": [
    "epochs = 50\n",
    "batch_size_param = 1\n",
    "batch_size = 1000*batch_size_param\n",
    "\n",
    "dictt, reverse_dictt = build_dataset(training_data)\n",
    "x_train, _ = batches(training_data, w2v_dict, n_input, batch_size)\n",
    "(x_val, _) = batches(training_data, w2v_dict, n_input, batch_size*0.25)\n",
    "(x_val2, _) = batches(training_data, dictt, n_input, batch_size*0.25)\n",
    "_, y_train = batches(training_data, dictt, n_input, batch_size)\n",
    "_, y_val = batches(training_data, dictt, n_input, batch_size*0.25)\n",
    "\n",
    "print(x_train.shape)\n",
    "print(y_train.shape)\n",
    "\n",
    "model.compile(optimizer=tf.keras.optimizers.RMSprop(),  # Optimizer\n",
    "              # Loss function to minimize\n",
    "              loss=tf.keras.losses.SparseCategoricalCrossentropy(from_logits=True),\n",
    "              # List of metrics to monitor\n",
    "              metrics=['sparse_categorical_accuracy'])\n",
    "\n",
    "print('# Fit model on training data')"
   ]
  },
  {
   "cell_type": "markdown",
   "metadata": {},
   "source": [
    "## Tensorboard Callback"
   ]
  },
  {
   "cell_type": "code",
   "execution_count": 7,
   "metadata": {},
   "outputs": [],
   "source": [
    "logs_path = \"tb25\"\n",
    "tensorboard_callback = tf.keras.callbacks.TensorBoard(log_dir=logs_path, histogram_freq=1)"
   ]
  },
  {
   "cell_type": "markdown",
   "metadata": {},
   "source": [
    "## Nodeanalysis Callback"
   ]
  },
  {
   "cell_type": "code",
   "execution_count": 8,
   "metadata": {},
   "outputs": [],
   "source": [
    "nac = NodeAnalysisCallback()"
   ]
  },
  {
   "cell_type": "markdown",
   "metadata": {},
   "source": [
    "## Model Training"
   ]
  },
  {
   "cell_type": "code",
   "execution_count": 9,
   "metadata": {},
   "outputs": [
    {
     "name": "stdout",
     "output_type": "stream",
     "text": [
      "Epoch 1/5\n",
      "1000/1000 [==============================] - 58s 58ms/step - loss: 5.9436 - sparse_categorical_accuracy: 0.0570\n",
      "Epoch 2/5\n",
      "1000/1000 [==============================] - 52s 52ms/step - loss: 5.5899 - sparse_categorical_accuracy: 0.0720\n",
      "Epoch 3/5\n",
      "1000/1000 [==============================] - 62s 62ms/step - loss: 5.4059 - sparse_categorical_accuracy: 0.0930\n",
      "Epoch 4/5\n",
      "1000/1000 [==============================] - 61s 61ms/step - loss: 5.2910 - sparse_categorical_accuracy: 0.1030\n",
      "Epoch 5/5\n",
      "1000/1000 [==============================] - 59s 59ms/step - loss: 5.1086 - sparse_categorical_accuracy: 0.1200\n"
     ]
    }
   ],
   "source": [
    "history = model.fit(x_train, y_train,\n",
    "                    batch_size=batch_size_param,\n",
    "                    epochs= 5, # epochs,\n",
    "                    # We pass some validation for\n",
    "                    # monitoring validation loss and metrics\n",
    "                    # at the end of each epoch\n",
    "                    #validation_data=(x_val, y_val),\n",
    "                    callbacks=[tensorboard_callback, nac])"
   ]
  },
  {
   "cell_type": "markdown",
   "metadata": {},
   "source": [
    "## Show Test Results"
   ]
  },
  {
   "cell_type": "code",
   "execution_count": 10,
   "metadata": {},
   "outputs": [
    {
     "name": "stdout",
     "output_type": "stream",
     "text": [
      "input: ['When', 'in', 'the'] pred: in --- actual: ['Course']\n",
      "input: ['in', 'the', 'Course'] pred: of --- actual: ['of']\n",
      "input: ['the', 'Course', 'of'] pred: of --- actual: ['human']\n",
      "input: ['Course', 'of', 'human'] pred: the --- actual: ['events']\n",
      "input: ['of', 'human', 'events'] pred: of --- actual: ['it']\n",
      "input: ['human', 'events', 'it'] pred: the --- actual: ['becomes']\n",
      "input: ['events', 'it', 'becomes'] pred: the --- actual: ['necessary']\n",
      "input: ['it', 'becomes', 'necessary'] pred: the --- actual: ['for']\n",
      "input: ['becomes', 'necessary', 'for'] pred: the --- actual: ['one']\n",
      "input: ['necessary', 'for', 'one'] pred: the --- actual: ['people']\n",
      "input: ['for', 'one', 'people'] pred: the --- actual: ['to']\n",
      "input: ['one', 'people', 'to'] pred: the --- actual: ['dissolve']\n",
      "input: ['people', 'to', 'dissolve'] pred: the --- actual: ['the']\n",
      "input: ['to', 'dissolve', 'the'] pred: Laws --- actual: ['political']\n",
      "input: ['dissolve', 'the', 'political'] pred: the --- actual: ['bands']\n",
      "input: ['the', 'political', 'bands'] pred: the --- actual: ['which']\n",
      "input: ['political', 'bands', 'which'] pred: them --- actual: ['have']\n",
      "input: ['bands', 'which', 'have'] pred: to --- actual: ['connected']\n",
      "input: ['which', 'have', 'connected'] pred: to --- actual: ['them']\n",
      "input: ['have', 'connected', 'them'] pred: to --- actual: ['with']\n",
      "input: ['connected', 'them', 'with'] pred: with --- actual: ['another']\n",
      "input: ['them', 'with', 'another'] pred: to --- actual: ['and']\n",
      "input: ['with', 'another', 'and'] pred: to --- actual: ['to']\n",
      "input: ['another', 'and', 'to'] pred: to --- actual: ['assume']\n",
      "input: ['and', 'to', 'assume'] pred: to --- actual: ['among']\n",
      "input: ['to', 'assume', 'among'] pred: the --- actual: ['the']\n",
      "input: ['assume', 'among', 'the'] pred: the --- actual: ['powers']\n",
      "input: ['among', 'the', 'powers'] pred: of --- actual: ['of']\n",
      "input: ['the', 'powers', 'of'] pred: of --- actual: ['the']\n",
      "input: ['powers', 'of', 'the'] pred: among --- actual: ['earth,']\n",
      "input: ['of', 'the', 'earth,'] pred: of --- actual: ['the']\n",
      "input: ['the', 'earth,', 'the'] pred: of --- actual: ['separate']\n",
      "input: ['earth,', 'the', 'separate'] pred: of --- actual: ['and']\n",
      "input: ['the', 'separate', 'and'] pred: of --- actual: ['equal']\n",
      "input: ['separate', 'and', 'equal'] pred: the --- actual: ['station']\n",
      "input: ['and', 'equal', 'station'] pred: the --- actual: ['to']\n",
      "input: ['equal', 'station', 'to'] pred: to --- actual: ['which']\n",
      "input: ['station', 'to', 'which'] pred: to --- actual: ['the']\n",
      "input: ['to', 'which', 'the'] pred: to --- actual: ['Laws']\n",
      "input: ['which', 'the', 'Laws'] pred: of --- actual: ['of']\n",
      "input: ['the', 'Laws', 'of'] pred: our --- actual: ['Nature']\n",
      "input: ['Laws', 'of', 'Nature'] pred: the --- actual: ['and']\n",
      "input: ['of', 'Nature', 'and'] pred: of --- actual: ['of']\n",
      "input: ['Nature', 'and', 'of'] pred: the --- actual: [\"Nature's\"]\n",
      "input: ['and', 'of', \"Nature's\"] pred: the --- actual: ['God']\n",
      "input: ['of', \"Nature's\", 'God'] pred: of --- actual: ['entitle']\n",
      "input: [\"Nature's\", 'God', 'entitle'] pred: to --- actual: ['them,']\n",
      "input: ['God', 'entitle', 'them,'] pred: to --- actual: ['a']\n",
      "input: ['entitle', 'them,', 'a'] pred: a --- actual: ['decent']\n",
      "input: ['them,', 'a', 'decent'] pred: a --- actual: ['respect']\n",
      "input: ['a', 'decent', 'respect'] pred: to --- actual: ['to']\n",
      "input: ['decent', 'respect', 'to'] pred: to --- actual: ['the']\n",
      "input: ['respect', 'to', 'the'] pred: to --- actual: ['opinions']\n",
      "input: ['to', 'the', 'opinions'] pred: of --- actual: ['of']\n",
      "input: ['the', 'opinions', 'of'] pred: of --- actual: ['mankind']\n",
      "input: ['opinions', 'of', 'mankind'] pred: to --- actual: ['requires']\n",
      "input: ['of', 'mankind', 'requires'] pred: to --- actual: ['that']\n",
      "input: ['mankind', 'requires', 'that'] pred: are --- actual: ['they']\n",
      "input: ['requires', 'that', 'they'] pred: are --- actual: ['should']\n",
      "input: ['that', 'they', 'should'] pred: to --- actual: ['declare']\n",
      "input: ['they', 'should', 'declare'] pred: to --- actual: ['the']\n",
      "input: ['should', 'declare', 'the'] pred: of --- actual: ['causes']\n",
      "input: ['declare', 'the', 'causes'] pred: of --- actual: ['which']\n",
      "input: ['the', 'causes', 'which'] pred: of --- actual: ['impel']\n",
      "input: ['causes', 'which', 'impel'] pred: to --- actual: ['them']\n",
      "input: ['which', 'impel', 'them'] pred: to --- actual: ['to']\n",
      "input: ['impel', 'them', 'to'] pred: to --- actual: ['the']\n",
      "input: ['them', 'to', 'the'] pred: to --- actual: ['separation.']\n",
      "input: ['to', 'the', 'separation.'] pred: of --- actual: ['We']\n",
      "input: ['the', 'separation.', 'We'] pred: of --- actual: ['hold']\n",
      "input: ['separation.', 'We', 'hold'] pred: to --- actual: ['these']\n",
      "input: ['We', 'hold', 'these'] pred: to --- actual: ['truths']\n",
      "input: ['hold', 'these', 'truths'] pred: to --- actual: ['to']\n",
      "input: ['these', 'truths', 'to'] pred: these --- actual: ['be']\n",
      "input: ['truths', 'to', 'be'] pred: to --- actual: ['self-evident,']\n",
      "input: ['to', 'be', 'self-evident,'] pred: to --- actual: ['that']\n",
      "input: ['be', 'self-evident,', 'that'] pred: to --- actual: ['all']\n",
      "input: ['self-evident,', 'that', 'all'] pred: to --- actual: ['men']\n",
      "input: ['that', 'all', 'men'] pred: are --- actual: ['are']\n",
      "input: ['all', 'men', 'are'] pred: to --- actual: ['created']\n",
      "input: ['men', 'are', 'created'] pred: their --- actual: ['equal,']\n",
      "input: ['are', 'created', 'equal,'] pred: to --- actual: ['that']\n",
      "input: ['created', 'equal,', 'that'] pred: to --- actual: ['they']\n",
      "input: ['equal,', 'that', 'they'] pred: to --- actual: ['are']\n",
      "input: ['that', 'they', 'are'] pred: are --- actual: ['endowed']\n",
      "input: ['they', 'are', 'endowed'] pred: their --- actual: ['by']\n",
      "input: ['are', 'endowed', 'by'] pred: to --- actual: ['their']\n",
      "input: ['endowed', 'by', 'their'] pred: He --- actual: ['Creator']\n",
      "input: ['by', 'their', 'Creator'] pred: to --- actual: ['with']\n",
      "input: ['their', 'Creator', 'with'] pred: to --- actual: ['certain']\n",
      "input: ['Creator', 'with', 'certain'] pred: to --- actual: ['unalienable']\n",
      "input: ['with', 'certain', 'unalienable'] pred: to --- actual: ['Rights,']\n",
      "input: ['certain', 'unalienable', 'Rights,'] pred: to --- actual: ['that']\n",
      "input: ['unalienable', 'Rights,', 'that'] pred: to --- actual: ['among']\n",
      "input: ['Rights,', 'that', 'among'] pred: the --- actual: ['these']\n",
      "input: ['that', 'among', 'these'] pred: the --- actual: ['are']\n",
      "input: ['among', 'these', 'are'] pred: are --- actual: ['Life,']\n",
      "input: ['these', 'are', 'Life,'] pred: are --- actual: ['Liberty']\n",
      "input: ['are', 'Life,', 'Liberty'] pred: to --- actual: ['and']\n",
      "input: ['Life,', 'Liberty', 'and'] pred: the --- actual: ['the']\n",
      "input: ['Liberty', 'and', 'the'] pred: and --- actual: ['pursuit']\n",
      "input: ['and', 'the', 'pursuit'] pred: of --- actual: ['of']\n",
      "input: ['the', 'pursuit', 'of'] pred: of --- actual: ['Happiness.']\n",
      "input: ['pursuit', 'of', 'Happiness.'] pred: these --- actual: ['—']\n",
      "input: ['of', 'Happiness.', '—'] pred: of --- actual: ['That']\n",
      "input: ['Happiness.', '—', 'That'] pred: of --- actual: ['to']\n",
      "input: ['—', 'That', 'to'] pred: these --- actual: ['secure']\n",
      "input: ['That', 'to', 'secure'] pred: of --- actual: ['these']\n",
      "input: ['to', 'secure', 'these'] pred: to --- actual: ['rights,']\n",
      "input: ['secure', 'these', 'rights,'] pred: these --- actual: ['Governments']\n",
      "input: ['these', 'rights,', 'Governments'] pred: are --- actual: ['are']\n",
      "input: ['rights,', 'Governments', 'are'] pred: that --- actual: ['instituted']\n",
      "input: ['Governments', 'are', 'instituted'] pred: their --- actual: ['among']\n",
      "input: ['are', 'instituted', 'among'] pred: the --- actual: ['Men,']\n",
      "input: ['instituted', 'among', 'Men,'] pred: the --- actual: ['deriving']\n",
      "input: ['among', 'Men,', 'deriving'] pred: the --- actual: ['their']\n",
      "input: ['Men,', 'deriving', 'their'] pred: the --- actual: ['just']\n",
      "input: ['deriving', 'their', 'just'] pred: the --- actual: ['powers']\n",
      "input: ['their', 'just', 'powers'] pred: the --- actual: ['from']\n",
      "input: ['just', 'powers', 'from'] pred: the --- actual: ['the']\n",
      "input: ['powers', 'from', 'the'] pred: the --- actual: ['consent']\n",
      "input: ['from', 'the', 'consent'] pred: of --- actual: ['of']\n",
      "input: ['the', 'consent', 'of'] pred: of --- actual: ['the']\n",
      "input: ['consent', 'of', 'the'] pred: among --- actual: ['governed,']\n",
      "input: ['of', 'the', 'governed,'] pred: of --- actual: ['—']\n",
      "input: ['the', 'governed,', '—'] pred: of --- actual: ['That']\n",
      "input: ['governed,', '—', 'That'] pred: of --- actual: ['whenever']\n",
      "input: ['—', 'That', 'whenever'] pred: of --- actual: ['any']\n",
      "input: ['That', 'whenever', 'any'] pred: of --- actual: ['Form']\n",
      "input: ['whenever', 'any', 'Form'] pred: of --- actual: ['of']\n",
      "input: ['any', 'Form', 'of'] pred: of --- actual: ['Government']\n",
      "input: ['Form', 'of', 'Government'] pred: of --- actual: ['becomes']\n",
      "input: ['of', 'Government', 'becomes'] pred: of --- actual: ['destructive']\n",
      "input: ['Government', 'becomes', 'destructive'] pred: of --- actual: ['of']\n",
      "input: ['becomes', 'destructive', 'of'] pred: the --- actual: ['these']\n",
      "input: ['destructive', 'of', 'these'] pred: these --- actual: ['ends,']\n",
      "input: ['of', 'these', 'ends,'] pred: of --- actual: ['it']\n",
      "input: ['these', 'ends,', 'it'] pred: these --- actual: ['is']\n",
      "input: ['ends,', 'it', 'is'] pred: the --- actual: ['the']\n",
      "input: ['it', 'is', 'the'] pred: it --- actual: ['Right']\n",
      "input: ['is', 'the', 'Right'] pred: of --- actual: ['of']\n",
      "input: ['the', 'Right', 'of'] pred: of --- actual: ['the']\n",
      "input: ['Right', 'of', 'the'] pred: an --- actual: ['People']\n",
      "input: ['of', 'the', 'People'] pred: of --- actual: ['to']\n",
      "input: ['the', 'People', 'to'] pred: of --- actual: ['alter']\n",
      "input: ['People', 'to', 'alter'] pred: to --- actual: ['or']\n",
      "input: ['to', 'alter', 'or'] pred: to --- actual: ['to']\n",
      "input: ['alter', 'or', 'to'] pred: to --- actual: ['abolish']\n",
      "input: ['or', 'to', 'abolish'] pred: to --- actual: ['it,']\n",
      "input: ['to', 'abolish', 'it,'] pred: to --- actual: ['and']\n",
      "input: ['abolish', 'it,', 'and'] pred: to --- actual: ['to']\n",
      "input: ['it,', 'and', 'to'] pred: to --- actual: ['institute']\n",
      "input: ['and', 'to', 'institute'] pred: to --- actual: ['new']\n",
      "input: ['to', 'institute', 'new'] pred: to --- actual: ['Government,']\n",
      "input: ['institute', 'new', 'Government,'] pred: to --- actual: ['laying']\n",
      "input: ['new', 'Government,', 'laying'] pred: the --- actual: ['its']\n",
      "input: ['Government,', 'laying', 'its'] pred: the --- actual: ['foundation']\n",
      "input: ['laying', 'its', 'foundation'] pred: the --- actual: ['on']\n",
      "input: ['its', 'foundation', 'on'] pred: the --- actual: ['such']\n",
      "input: ['foundation', 'on', 'such'] pred: and --- actual: ['principles']\n",
      "input: ['on', 'such', 'principles'] pred: of --- actual: ['and']\n",
      "input: ['such', 'principles', 'and'] pred: the --- actual: ['organizing']\n",
      "input: ['principles', 'and', 'organizing'] pred: the --- actual: ['its']\n",
      "input: ['and', 'organizing', 'its'] pred: the --- actual: ['powers']\n",
      "input: ['organizing', 'its', 'powers'] pred: the --- actual: ['in']\n",
      "input: ['its', 'powers', 'in'] pred: the --- actual: ['such']\n",
      "input: ['powers', 'in', 'such'] pred: the --- actual: ['form,']\n",
      "input: ['in', 'such', 'form,'] pred: the --- actual: ['as']\n",
      "input: ['such', 'form,', 'as'] pred: to --- actual: ['to']\n",
      "input: ['form,', 'as', 'to'] pred: to --- actual: ['them']\n",
      "input: ['as', 'to', 'them'] pred: to --- actual: ['shall']\n",
      "input: ['to', 'them', 'shall'] pred: to --- actual: ['seem']\n",
      "input: ['them', 'shall', 'seem'] pred: to --- actual: ['most']\n",
      "input: ['shall', 'seem', 'most'] pred: and --- actual: ['likely']\n",
      "input: ['seem', 'most', 'likely'] pred: and --- actual: ['to']\n",
      "input: ['most', 'likely', 'to'] pred: and --- actual: ['effect']\n",
      "input: ['likely', 'to', 'effect'] pred: to --- actual: ['their']\n",
      "input: ['to', 'effect', 'their'] pred: to --- actual: ['Safety']\n",
      "input: ['effect', 'their', 'Safety'] pred: to --- actual: ['and']\n",
      "input: ['their', 'Safety', 'and'] pred: to --- actual: ['Happiness.']\n",
      "input: ['Safety', 'and', 'Happiness.'] pred: and --- actual: ['Prudence,']\n",
      "input: ['and', 'Happiness.', 'Prudence,'] pred: to --- actual: ['indeed,']\n",
      "input: ['Happiness.', 'Prudence,', 'indeed,'] pred: and --- actual: ['will']\n",
      "input: ['Prudence,', 'indeed,', 'will'] pred: and --- actual: ['dictate']\n",
      "input: ['indeed,', 'will', 'dictate'] pred: that --- actual: ['that']\n",
      "input: ['will', 'dictate', 'that'] pred: that --- actual: ['Governments']\n",
      "input: ['dictate', 'that', 'Governments'] pred: that --- actual: ['long']\n",
      "input: ['that', 'Governments', 'long'] pred: to --- actual: ['established']\n",
      "input: ['Governments', 'long', 'established'] pred: to --- actual: ['should']\n",
      "input: ['long', 'established', 'should'] pred: to --- actual: ['not']\n",
      "input: ['established', 'should', 'not'] pred: to --- actual: ['be']\n",
      "input: ['should', 'not', 'be'] pred: to --- actual: ['changed']\n",
      "input: ['not', 'be', 'changed'] pred: to --- actual: ['for']\n",
      "input: ['be', 'changed', 'for'] pred: to --- actual: ['light']\n",
      "input: ['changed', 'for', 'light'] pred: the --- actual: ['and']\n",
      "input: ['for', 'light', 'and'] pred: all --- actual: ['transient']\n",
      "input: ['light', 'and', 'transient'] pred: all --- actual: ['causes;']\n",
      "input: ['and', 'transient', 'causes;'] pred: the --- actual: ['and']\n",
      "input: ['transient', 'causes;', 'and'] pred: all --- actual: ['accordingly']\n",
      "input: ['causes;', 'and', 'accordingly'] pred: all --- actual: ['all']\n",
      "input: ['and', 'accordingly', 'all'] pred: the --- actual: ['experience']\n",
      "input: ['accordingly', 'all', 'experience'] pred: all --- actual: ['hath']\n",
      "input: ['all', 'experience', 'hath'] pred: and --- actual: ['shewn']\n",
      "input: ['experience', 'hath', 'shewn'] pred: are --- actual: ['that']\n",
      "input: ['hath', 'shewn', 'that'] pred: are --- actual: ['mankind']\n",
      "input: ['shewn', 'that', 'mankind'] pred: are --- actual: ['are']\n",
      "input: ['that', 'mankind', 'are'] pred: are --- actual: ['more']\n",
      "input: ['mankind', 'are', 'more'] pred: to --- actual: ['disposed']\n",
      "input: ['are', 'more', 'disposed'] pred: to --- actual: ['to']\n",
      "input: ['more', 'disposed', 'to'] pred: to --- actual: ['suffer,']\n",
      "input: ['disposed', 'to', 'suffer,'] pred: to --- actual: ['while']\n",
      "input: ['to', 'suffer,', 'while'] pred: to --- actual: ['evils']\n",
      "input: ['suffer,', 'while', 'evils'] pred: to --- actual: ['are']\n",
      "input: ['while', 'evils', 'are'] pred: are --- actual: ['sufferable']\n",
      "input: ['evils', 'are', 'sufferable'] pred: to --- actual: ['than']\n",
      "input: ['are', 'sufferable', 'than'] pred: to --- actual: ['to']\n",
      "input: ['sufferable', 'than', 'to'] pred: to --- actual: ['right']\n",
      "input: ['than', 'to', 'right'] pred: to --- actual: ['themselves']\n",
      "input: ['to', 'right', 'themselves'] pred: to --- actual: ['by']\n",
      "input: ['right', 'themselves', 'by'] pred: their --- actual: ['abolishing']\n",
      "input: ['themselves', 'by', 'abolishing'] pred: their --- actual: ['the']\n",
      "input: ['by', 'abolishing', 'the'] pred: with --- actual: ['forms']\n",
      "input: ['abolishing', 'the', 'forms'] pred: of --- actual: ['to']\n",
      "input: ['the', 'forms', 'to'] pred: to --- actual: ['which']\n",
      "input: ['forms', 'to', 'which'] pred: to --- actual: ['they']\n",
      "input: ['to', 'which', 'they'] pred: to --- actual: ['are']\n",
      "input: ['which', 'they', 'are'] pred: to --- actual: ['accustomed.']\n",
      "input: ['they', 'are', 'accustomed.'] pred: to --- actual: ['But']\n",
      "input: ['are', 'accustomed.', 'But'] pred: to --- actual: ['when']\n",
      "input: ['accustomed.', 'But', 'when'] pred: to --- actual: ['a']\n",
      "input: ['But', 'when', 'a'] pred: to --- actual: ['long']\n",
      "input: ['when', 'a', 'long'] pred: to --- actual: ['train']\n",
      "input: ['a', 'long', 'train'] pred: to --- actual: ['of']\n",
      "input: ['long', 'train', 'of'] pred: to --- actual: ['abuses']\n",
      "input: ['train', 'of', 'abuses'] pred: the --- actual: ['and']\n",
      "input: ['of', 'abuses', 'and'] pred: to --- actual: ['usurpations,']\n",
      "input: ['abuses', 'and', 'usurpations,'] pred: the --- actual: ['pursuing']\n",
      "input: ['and', 'usurpations,', 'pursuing'] pred: the --- actual: ['invariably']\n",
      "input: ['usurpations,', 'pursuing', 'invariably'] pred: the --- actual: ['the']\n",
      "input: ['pursuing', 'invariably', 'the'] pred: the --- actual: ['same']\n",
      "input: ['invariably', 'the', 'same'] pred: of --- actual: ['Object']\n",
      "input: ['the', 'same', 'Object'] pred: of --- actual: ['evinces']\n",
      "input: ['same', 'Object', 'evinces'] pred: the --- actual: ['a']\n",
      "input: ['Object', 'evinces', 'a'] pred: to --- actual: ['design']\n",
      "input: ['evinces', 'a', 'design'] pred: to --- actual: ['to']\n",
      "input: ['a', 'design', 'to'] pred: to --- actual: ['reduce']\n",
      "input: ['design', 'to', 'reduce'] pred: to --- actual: ['them']\n",
      "input: ['to', 'reduce', 'them'] pred: to --- actual: ['under']\n",
      "input: ['reduce', 'them', 'under'] pred: to --- actual: ['absolute']\n",
      "input: ['them', 'under', 'absolute'] pred: to --- actual: ['Despotism,']\n"
     ]
    }
   ],
   "source": [
    "predictions = model.predict(x_val)\n",
    "\n",
    "for x in range(0,len(predictions)):\n",
    "    prediction = predictions[x]\n",
    "    max = 0\n",
    "    for i in range(0,len(prediction)):\n",
    "        if prediction[i] > prediction[max]:\n",
    "            max = i\n",
    "    print(f'input: { [reverse_dictt[x_val2[x][i]] for i in range(0,len(x_val[x]))] } pred: {reverse_dictt[max]} --- actual: {[reverse_dictt[y_val[x][i]] for i in range(0,len(y_val[x]))] }')\n"
   ]
  },
  {
   "cell_type": "markdown",
   "metadata": {},
   "source": [
    "## Results"
   ]
  },
  {
   "cell_type": "markdown",
   "metadata": {},
   "source": [
    "### Accuracy"
   ]
  },
  {
   "cell_type": "code",
   "execution_count": 11,
   "metadata": {},
   "outputs": [
    {
     "data": {
      "image/png": "[encoded data removed]",
      "text/plain": [
       "<Figure size 432x288 with 1 Axes>"
      ]
     },
     "metadata": {
      "needs_background": "light"
     },
     "output_type": "display_data"
    }
   ],
   "source": [
    "plt.plot(history.history['sparse_categorical_accuracy'])\n",
    "# plt.plot(history.history['val_sparse_categorical_accuracy'])\n",
    "plt.title('model accuracy')\n",
    "plt.ylabel('accuracy')\n",
    "plt.xlabel('epoch')\n",
    "plt.legend(['train'], loc='upper left')\n",
    "plt.show()"
   ]
  },
  {
   "cell_type": "markdown",
   "metadata": {},
   "source": [
    "### Loss\n"
   ]
  },
  {
   "cell_type": "code",
   "execution_count": 12,
   "metadata": {},
   "outputs": [
    {
     "data": {
      "image/png": "[encoded data removed]",
      "text/plain": [
       "<Figure size 432x288 with 1 Axes>"
      ]
     },
     "metadata": {
      "needs_background": "light"
     },
     "output_type": "display_data"
    }
   ],
   "source": [
    "plt.title('model loss')\n",
    "plt.plot(history.history['loss'])\n",
    "plt.ylabel('loss')\n",
    "plt.xlabel('epoch')\n",
    "plt.legend(['train', 'test'], loc='upper left')\n",
    "plt.show()\n"
   ]
  },
  {
   "cell_type": "markdown",
   "metadata": {},
   "source": [
    "## Duration\n"
   ]
  },
  {
   "cell_type": "code",
   "execution_count": 13,
   "metadata": {},
   "outputs": [
    {
     "name": "stdout",
     "output_type": "stream",
     "text": [
      "duration:  4.945925533771515 min\n"
     ]
    }
   ],
   "source": [
    "end_time = time.time()\n",
    "print(\"duration: \",elapsed(end_time - start_time))"
   ]
  },
  {
   "cell_type": "markdown",
   "metadata": {},
   "source": [
    "## NodeAnalysis"
   ]
  },
  {
   "cell_type": "code",
   "execution_count": 31,
   "metadata": {},
   "outputs": [],
   "source": [
    "class LSTMGroup(EmptyNode):\n",
    "    def __init__(self):\n",
    "        super(LSTMGroup, self).__init__()\n",
    "        self.units = None\n",
    "        self.kernel = None\n",
    "        self.recurrent_kernel = None\n",
    "        self.bias_all = None\n",
    "        \n",
    "        self.kernel_dict = None\n",
    "        self.recurrent_kernel_dict = None\n",
    "        self.bias_dict = None\n",
    "        \n",
    "        # weights type\n",
    "        self.KERNEL = \"KERNEL\"\n",
    "        self.RE_KERNEL = \"RECURRENT KERNEL\"\n",
    "        \n",
    "        # weights subtype \n",
    "        self.INPUT = \"input\"\n",
    "        self.FORGET = \"forget\"\n",
    "        self.CELL_STATE = \"cell_state\"\n",
    "        self.OUTPUT = \"output\"\n",
    "    \n",
    "    def report(self):\n",
    "        super(LSTMGroup, self).report()\n",
    "    \n",
    "    def getSimpleNeuron(self, weights_type, weights_subtype, node_index, epoch=0):\n",
    "        node = SimpleNeuron()\n",
    "        \n",
    "        node.name = f\"{self.name} -- {weights_type} > {weights_subtype}: {node_index}\"\n",
    "        node.model = self.model\n",
    "        node.epoch = epoch\n",
    "        \n",
    "        node.layer = self.layer\n",
    "        node.layer_in = self.layer_in\n",
    "        node.layer_out = self.layer_out\n",
    "        \n",
    "        node.layer_index = self.layer_index\n",
    "        node.node_index = [self.node_index, node_index]\n",
    "        node.nac = self.nac\n",
    "        \n",
    "        node.epochs = len(nac.weights[self.layer.name])\n",
    "        \n",
    "        if weights_type == self.KERNEL:\n",
    "            node.weight = self.kernel_dict\n",
    "\n",
    "        if weights_type == self.RE_KERNEL:\n",
    "            node.weight = self.recurrent_kernel_dict\n",
    "        \n",
    "        node.weight = node.weight[weights_subtype]\n",
    "            \n",
    "        for index in node_index:\n",
    "            node.weight = node.weight[index]\n",
    "        \n",
    "        node.bias = self.bias_all[node_index[-1]]\n",
    "        \n",
    "        return node\n",
    "        \n",
    "    def getSimpleNeuronHistory(self, weights_type, weights_subtype, node_index, epochs):\n",
    "        h = [self.getSimpleNeuron(weights_type, weights_subtype,  node_index, epoch=e) for e in range(epochs)]\n",
    "        return h\n",
    "        \n",
    "    def get(self, nac, layer_index, node_index,  epoch=-1):\n",
    "        super(LSTMGroup, self).get(nac, layer_index, node_index, epoch=epoch)\n",
    "        \n",
    "        W = nac.weights[self.layer.name][epoch][node_index*3]\n",
    "        U = nac.weights[self.layer.name][epoch][node_index*3 + 1]\n",
    "        b = nac.weights[self.layer.name][epoch][node_index*3 + 2]\n",
    "        \n",
    "        self.kernel = W\n",
    "        self.recurrent_kernel = U\n",
    "        self.bias_all = b\n",
    "\n",
    "        units = int(int(self.kernel.shape[1])/4)\n",
    "        self.units = units\n",
    "        \n",
    "        # input - forget - cell state - output\n",
    "        W_i = W[:, :units]\n",
    "        W_f = W[:, units: units * 2]\n",
    "        W_c = W[:, units * 2: units * 3]\n",
    "        W_o = W[:, units * 3:]\n",
    "        \n",
    "        self.kernel_dict = {\n",
    "            \"input\" : W_i,\n",
    "            \"forget\" : W_f,\n",
    "            \"cell_state\" : W_c,\n",
    "            \"output\" : W_o\n",
    "        }\n",
    "\n",
    "        U_i = U[:, :units]\n",
    "        U_f = U[:, units: units * 2]\n",
    "        U_c = U[:, units * 2: units * 3]\n",
    "        U_o = U[:, units * 3:]\n",
    "        \n",
    "        self.recurrent_kernel_dict = {\n",
    "            \"input\" : U_i,\n",
    "            \"forget\" : U_f,\n",
    "            \"cell_state\" : U_c,\n",
    "            \"output\" : U_o \n",
    "        }\n",
    "\n",
    "        b_i = b[:units]\n",
    "        b_f = b[units: units * 2]\n",
    "        b_c = b[units * 2: units * 3]\n",
    "        b_o = b[units * 3:]\n",
    "        \n",
    "        self.bias_dict = {\n",
    "            \"input\" : b_i,\n",
    "            \"forget\" : b_f,\n",
    "            \"cell_state\" : b_c,\n",
    "            \"output\" : b_o \n",
    "        }\n",
    "        \n",
    "        return self"
   ]
  },
  {
   "cell_type": "code",
   "execution_count": 32,
   "metadata": {},
   "outputs": [],
   "source": [
    "group = LSTMGroup()"
   ]
  },
  {
   "cell_type": "code",
   "execution_count": 33,
   "metadata": {
    "scrolled": true
   },
   "outputs": [
    {
     "data": {
      "text/plain": [
       "0.0065171532"
      ]
     },
     "execution_count": 33,
     "metadata": {},
     "output_type": "execute_result"
    }
   ],
   "source": [
    "group.get(nac,0,0)\n",
    "group.getSimpleNeuron(group.KERNEL, group.FORGET, [0,0]).weight"
   ]
  },
  {
   "cell_type": "code",
   "execution_count": 35,
   "metadata": {},
   "outputs": [
    {
     "data": {
      "text/plain": [
       "-0.05448387"
      ]
     },
     "execution_count": 35,
     "metadata": {},
     "output_type": "execute_result"
    }
   ],
   "source": [
    "group.getSimpleNeuron(group.RE_KERNEL, group.FORGET, [0,0]).weight"
   ]
  },
  {
   "cell_type": "code",
   "execution_count": 41,
   "metadata": {},
   "outputs": [
    {
     "data": {
      "text/plain": [
       "-1"
      ]
     },
     "execution_count": 41,
     "metadata": {},
     "output_type": "execute_result"
    }
   ],
   "source": [
    "h = group.getSimpleNeuronHistory(group.KERNEL, group.FORGET, [0,0], group.epochs)"
   ]
  },
  {
   "cell_type": "code",
   "execution_count": 38,
   "metadata": {},
   "outputs": [
    {
     "data": {
      "image/png": "[encoded data removed]",
      "text/plain": [
       "<Figure size 432x288 with 1 Axes>"
      ]
     },
     "metadata": {
      "needs_background": "light"
     },
     "output_type": "display_data"
    }
   ],
   "source": [
    "showWeights(h)"
   ]
  },
  {
   "cell_type": "code",
   "execution_count": 39,
   "metadata": {},
   "outputs": [
    {
     "data": {
      "image/png": "[encoded data removed]",
      "text/plain": [
       "<Figure size 432x288 with 1 Axes>"
      ]
     },
     "metadata": {
      "needs_background": "light"
     },
     "output_type": "display_data"
    }
   ],
   "source": [
    "showBias(h)"
   ]
  },
  {
   "cell_type": "code",
   "execution_count": null,
   "metadata": {},
   "outputs": [],
   "source": []
  }
 ],
 "metadata": {
  "kernelspec": {
   "display_name": "Python 3.7 Tensorflow 2",
   "language": "python",
   "name": "tf2"
  },
  "language_info": {
   "codemirror_mode": {
    "name": "ipython",
    "version": 3
   },
   "file_extension": ".py",
   "mimetype": "text/x-python",
   "name": "python",
   "nbconvert_exporter": "python",
   "pygments_lexer": "ipython3",
   "version": "3.7.7"
  }
 },
 "nbformat": 4,
 "nbformat_minor": 4
}
