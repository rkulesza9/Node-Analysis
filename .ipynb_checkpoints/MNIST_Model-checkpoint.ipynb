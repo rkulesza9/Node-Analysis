{
 "cells": [
  {
   "cell_type": "markdown",
   "metadata": {},
   "source": [
    "# Basic MNIST Model\n",
    "For testing the **NodeAnalysis** python library"
   ]
  },
  {
   "cell_type": "code",
   "execution_count": 27,
   "metadata": {
    "scrolled": true
   },
   "outputs": [],
   "source": [
    "import tensorflow as tf\n",
    "from tensorflow import keras\n",
    "from keras.models import Sequential\n",
    "from keras.layers.core import Dense, Dropout, Activation\n",
    "from keras.utils import np_utils\n",
    "from keras.datasets import mnist\n",
    "\n",
    "import numpy as np\n",
    "\n",
    "from sklearn.preprocessing import LabelEncoder\n",
    "\n",
    "from nodeanalysis.GetWeights import GetWeights as GW\n",
    "from nodeanalysis.GetWeights import print_node_params\n",
    "from nodeanalysis.NodeAnalysis import NodeAnalysisCallback as NAC\n",
    "\n",
    "from nodeanalysis.nodes.EmptyNode import EmptyNode\n",
    "from nodeanalysis.nodes.SimpleNeuron import SimpleNeuron"
   ]
  },
  {
   "cell_type": "markdown",
   "metadata": {},
   "source": [
    "## MNIST Dataset \n",
    "### Load Dataset"
   ]
  },
  {
   "cell_type": "code",
   "execution_count": 2,
   "metadata": {},
   "outputs": [],
   "source": [
    "(X_train, y_train), (X_test, y_test) = mnist.load_data()"
   ]
  },
  {
   "cell_type": "code",
   "execution_count": 3,
   "metadata": {},
   "outputs": [
    {
     "name": "stdout",
     "output_type": "stream",
     "text": [
      "X_train.shape = (60000, 28, 28)\n",
      "y_train.shape = (60000,)\n",
      "X_test.shape = (10000, 28, 28)\n",
      "y_test.shape = (10000,)\n"
     ]
    }
   ],
   "source": [
    "print(f'X_train.shape = {X_train.shape}')\n",
    "print(f'y_train.shape = {y_train.shape}')\n",
    "print(f'X_test.shape = {X_test.shape}')\n",
    "print(f'y_test.shape = {y_test.shape}')"
   ]
  },
  {
   "cell_type": "markdown",
   "metadata": {},
   "source": [
    "### Pre-Processing\n",
    "#### Normalization"
   ]
  },
  {
   "cell_type": "code",
   "execution_count": 4,
   "metadata": {},
   "outputs": [
    {
     "name": "stdout",
     "output_type": "stream",
     "text": [
      "sample X_train: \n",
      "[[0. 0. 0. 0. 0. 0. 0. 0. 0. 0. 0. 0. 0. 0. 0. 0. 0. 0. 0. 0. 0. 0. 0. 0.\n",
      "  0. 0. 0. 0.]\n",
      " [0. 0. 0. 0. 0. 0. 0. 0. 0. 0. 0. 0. 0. 0. 0. 0. 0. 0. 0. 0. 0. 0. 0. 0.\n",
      "  0. 0. 0. 0.]\n",
      " [0. 0. 0. 0. 0. 0. 0. 0. 0. 0. 0. 0. 0. 0. 0. 0. 0. 0. 0. 0. 0. 0. 0. 0.\n",
      "  0. 0. 0. 0.]\n",
      " [0. 0. 0. 0. 0. 0. 0. 0. 0. 0. 0. 0. 0. 0. 0. 0. 0. 0. 0. 0. 0. 0. 0. 0.\n",
      "  0. 0. 0. 0.]\n",
      " [0. 0. 0. 0. 0. 0. 0. 0. 0. 0. 0. 0. 0. 0. 0. 0. 0. 0. 0. 0. 0. 0. 0. 0.\n",
      "  0. 0. 0. 0.]]\n",
      "\n",
      "sample X_test: \n",
      "[[0. 0. 0. 0. 0. 0. 0. 0. 0. 0. 0. 0. 0. 0. 0. 0. 0. 0. 0. 0. 0. 0. 0. 0.\n",
      "  0. 0. 0. 0.]\n",
      " [0. 0. 0. 0. 0. 0. 0. 0. 0. 0. 0. 0. 0. 0. 0. 0. 0. 0. 0. 0. 0. 0. 0. 0.\n",
      "  0. 0. 0. 0.]\n",
      " [0. 0. 0. 0. 0. 0. 0. 0. 0. 0. 0. 0. 0. 0. 0. 0. 0. 0. 0. 0. 0. 0. 0. 0.\n",
      "  0. 0. 0. 0.]\n",
      " [0. 0. 0. 0. 0. 0. 0. 0. 0. 0. 0. 0. 0. 0. 0. 0. 0. 0. 0. 0. 0. 0. 0. 0.\n",
      "  0. 0. 0. 0.]\n",
      " [0. 0. 0. 0. 0. 0. 0. 0. 0. 0. 0. 0. 0. 0. 0. 0. 0. 0. 0. 0. 0. 0. 0. 0.\n",
      "  0. 0. 0. 0.]]\n"
     ]
    }
   ],
   "source": [
    "X_train = X_train / 255\n",
    "X_test = X_test / 255\n",
    "\n",
    "print(f'sample X_train: \\n{X_train[0][:5][:5]}\\n')\n",
    "print(f'sample X_test: \\n{X_test[0][:5][:5]}')"
   ]
  },
  {
   "cell_type": "markdown",
   "metadata": {},
   "source": [
    "#### Label Encoding"
   ]
  },
  {
   "cell_type": "code",
   "execution_count": 5,
   "metadata": {},
   "outputs": [
    {
     "name": "stdout",
     "output_type": "stream",
     "text": [
      "sample y_train_encoded = [5 0 4 1 9]\n",
      "classes = [0 1 2 3 4 5 6 7 8 9] n = 10\n"
     ]
    }
   ],
   "source": [
    "encoder = LabelEncoder()\n",
    "encoder.fit(y_train)\n",
    "\n",
    "y_train_encoded = encoder.transform(y_train)\n",
    "y_classes = encoder.classes_\n",
    "y_n = len(y_classes)\n",
    "\n",
    "print(f'sample y_train_encoded = {y_train_encoded[:5]}')\n",
    "print(f'classes = {y_classes} n = {y_n}')"
   ]
  },
  {
   "cell_type": "markdown",
   "metadata": {},
   "source": [
    "## Model\n",
    "### Create Model"
   ]
  },
  {
   "cell_type": "code",
   "execution_count": 6,
   "metadata": {},
   "outputs": [
    {
     "name": "stdout",
     "output_type": "stream",
     "text": [
      "Model: \"sequential\"\n",
      "_________________________________________________________________\n",
      "Layer (type)                 Output Shape              Param #   \n",
      "=================================================================\n",
      "flatten (Flatten)            (None, 784)               0         \n",
      "_________________________________________________________________\n",
      "dense (Dense)                (None, 128)               100480    \n",
      "_________________________________________________________________\n",
      "dense_1 (Dense)              (None, 10)                1290      \n",
      "=================================================================\n",
      "Total params: 101,770\n",
      "Trainable params: 101,770\n",
      "Non-trainable params: 0\n",
      "_________________________________________________________________\n"
     ]
    }
   ],
   "source": [
    "model = tf.keras.models.Sequential([\n",
    "  tf.keras.layers.Flatten(input_shape=(28, 28, 1)),\n",
    "  tf.keras.layers.Dense(128,activation='relu'),\n",
    "  tf.keras.layers.Dense(10, activation='softmax')\n",
    "])\n",
    "model.compile(\n",
    "    loss='sparse_categorical_crossentropy',\n",
    "    optimizer=tf.keras.optimizers.Adam(0.001),\n",
    "    metrics=['accuracy'],\n",
    ")\n",
    "\n",
    "model.summary()"
   ]
  },
  {
   "cell_type": "markdown",
   "metadata": {},
   "source": [
    "### Train Model "
   ]
  },
  {
   "cell_type": "markdown",
   "metadata": {},
   "source": [
    "#### NodeAnalysis Callback"
   ]
  },
  {
   "cell_type": "code",
   "execution_count": 7,
   "metadata": {
    "scrolled": true
   },
   "outputs": [],
   "source": [
    "gw = NAC()"
   ]
  },
  {
   "cell_type": "markdown",
   "metadata": {},
   "source": [
    "#### Train Model"
   ]
  },
  {
   "cell_type": "code",
   "execution_count": 8,
   "metadata": {},
   "outputs": [
    {
     "name": "stdout",
     "output_type": "stream",
     "text": [
      "Epoch 1/20\n",
      "469/469 [==============================] - 3s 6ms/step - loss: 0.3541 - accuracy: 0.9030 - val_loss: 0.1909 - val_accuracy: 0.9450\n",
      "Epoch 2/20\n",
      "469/469 [==============================] - 2s 5ms/step - loss: 0.1626 - accuracy: 0.9532 - val_loss: 0.1369 - val_accuracy: 0.9612\n",
      "Epoch 3/20\n",
      "469/469 [==============================] - 2s 5ms/step - loss: 0.1178 - accuracy: 0.9661 - val_loss: 0.1148 - val_accuracy: 0.9660\n",
      "Epoch 4/20\n",
      "469/469 [==============================] - 2s 4ms/step - loss: 0.0926 - accuracy: 0.9734 - val_loss: 0.0947 - val_accuracy: 0.9719\n",
      "Epoch 5/20\n",
      "469/469 [==============================] - 2s 5ms/step - loss: 0.0763 - accuracy: 0.9780 - val_loss: 0.0937 - val_accuracy: 0.9718\n",
      "Epoch 6/20\n",
      "469/469 [==============================] - 2s 5ms/step - loss: 0.0626 - accuracy: 0.9820 - val_loss: 0.0877 - val_accuracy: 0.9737\n",
      "Epoch 7/20\n",
      "469/469 [==============================] - 2s 5ms/step - loss: 0.0523 - accuracy: 0.9850 - val_loss: 0.0846 - val_accuracy: 0.9738\n",
      "Epoch 8/20\n",
      "469/469 [==============================] - 2s 5ms/step - loss: 0.0439 - accuracy: 0.9870 - val_loss: 0.0758 - val_accuracy: 0.9763\n",
      "Epoch 9/20\n",
      "469/469 [==============================] - 2s 5ms/step - loss: 0.0377 - accuracy: 0.9888 - val_loss: 0.0774 - val_accuracy: 0.9771\n",
      "Epoch 10/20\n",
      "469/469 [==============================] - 2s 5ms/step - loss: 0.0311 - accuracy: 0.9914 - val_loss: 0.0767 - val_accuracy: 0.9760\n",
      "Epoch 11/20\n",
      "469/469 [==============================] - 2s 5ms/step - loss: 0.0262 - accuracy: 0.9929 - val_loss: 0.0780 - val_accuracy: 0.9773\n",
      "Epoch 12/20\n",
      "469/469 [==============================] - 2s 5ms/step - loss: 0.0227 - accuracy: 0.9939 - val_loss: 0.0734 - val_accuracy: 0.9779\n",
      "Epoch 13/20\n",
      "469/469 [==============================] - 2s 5ms/step - loss: 0.0187 - accuracy: 0.9957 - val_loss: 0.0755 - val_accuracy: 0.9778\n",
      "Epoch 14/20\n",
      "469/469 [==============================] - 2s 5ms/step - loss: 0.0169 - accuracy: 0.9960 - val_loss: 0.0802 - val_accuracy: 0.9763\n",
      "Epoch 15/20\n",
      "469/469 [==============================] - 2s 5ms/step - loss: 0.0145 - accuracy: 0.9965 - val_loss: 0.0853 - val_accuracy: 0.9746\n",
      "Epoch 16/20\n",
      "469/469 [==============================] - 3s 6ms/step - loss: 0.0119 - accuracy: 0.9974 - val_loss: 0.0759 - val_accuracy: 0.9790\n",
      "Epoch 17/20\n",
      "469/469 [==============================] - 2s 4ms/step - loss: 0.0099 - accuracy: 0.9981 - val_loss: 0.0931 - val_accuracy: 0.9739\n",
      "Epoch 18/20\n",
      "469/469 [==============================] - 2s 5ms/step - loss: 0.0092 - accuracy: 0.9980 - val_loss: 0.0824 - val_accuracy: 0.9782\n",
      "Epoch 19/20\n",
      "469/469 [==============================] - 2s 5ms/step - loss: 0.0071 - accuracy: 0.9990 - val_loss: 0.0828 - val_accuracy: 0.9779\n",
      "Epoch 20/20\n",
      "469/469 [==============================] - 2s 5ms/step - loss: 0.0061 - accuracy: 0.9991 - val_loss: 0.0877 - val_accuracy: 0.9767\n"
     ]
    }
   ],
   "source": [
    "history = model.fit(X_train, y_train,\n",
    "        batch_size=128,\n",
    "         epochs=20,\n",
    "         validation_data=(X_test,y_test),\n",
    "         callbacks=[gw])"
   ]
  },
  {
   "cell_type": "markdown",
   "metadata": {},
   "source": [
    "#### Test NodeAnalysis"
   ]
  },
  {
   "cell_type": "code",
   "execution_count": 9,
   "metadata": {
    "scrolled": true
   },
   "outputs": [
    {
     "name": "stdout",
     "output_type": "stream",
     "text": [
      "num layers: 3\n",
      "layer_index: -1 \n",
      " layer_in: -2\n",
      "layer_out: 0\n",
      "NODE [name=Node dense_1 : [1, 1] epoch=0]\n",
      "\t model=<tensorflow.python.keras.engine.sequential.Sequential object at 0x0000027AB6B1BEB0>\n",
      "\t layer=<tensorflow.python.keras.layers.core.Dense object at 0x0000027AB6B1BB50>\n",
      "\n",
      "\t layer_in=<tensorflow.python.keras.layers.core.Dense object at 0x0000027AB6B1B7F0>\n",
      "\t layer_out=<tensorflow.python.keras.layers.core.Flatten object at 0x0000027AB6AFD250>\n"
     ]
    }
   ],
   "source": [
    "node = EmptyNode()\n",
    "node.get(gw,-1,[1,1])\n",
    "node.report()"
   ]
  },
  {
   "cell_type": "code",
   "execution_count": 10,
   "metadata": {
    "scrolled": true
   },
   "outputs": [
    {
     "name": "stdout",
     "output_type": "stream",
     "text": [
      "num layers: 3\n",
      "layer_index: -1 \n",
      " layer_in: -2\n",
      "layer_out: 0\n",
      "nac weights: (20, 2)\n",
      "weight: (2,)\n",
      "bias: (2,)\n",
      "NODE [name=Node dense_1 : [1, 1] epoch=0]\n",
      "\t model=<tensorflow.python.keras.engine.sequential.Sequential object at 0x0000027AB6B1BEB0>\n",
      "\t layer=<tensorflow.python.keras.layers.core.Dense object at 0x0000027AB6B1BB50>\n",
      "\n",
      "\t layer_in=<tensorflow.python.keras.layers.core.Dense object at 0x0000027AB6B1B7F0>\n",
      "\t layer_out=<tensorflow.python.keras.layers.core.Flatten object at 0x0000027AB6AFD250>\n",
      "\n",
      "\t activation=<function softmax at 0x0000027AA3A45790>\n",
      "\t weight=[[-0.10449445 -0.10536678  0.19891047  0.14355475  0.10259702 -0.3034805\n",
      "   0.12677333  0.14799385  0.22855218  0.0350871 ]\n",
      " [-0.10449445 -0.10536678  0.19891047  0.14355475  0.10259702 -0.3034805\n",
      "   0.12677333  0.14799385  0.22855218  0.0350871 ]]\n",
      "\t bias=[-0.09969565 -0.11201597  0.19816044  0.17240265  0.09728854 -0.38903227\n",
      "  0.1359057   0.17019148  0.23672588  0.01967653]\n"
     ]
    }
   ],
   "source": [
    "node = SimpleNeuron()\n",
    "node.get(gw,-1,[1,1])\n",
    "node.report()"
   ]
  },
  {
   "cell_type": "code",
   "execution_count": 37,
   "metadata": {},
   "outputs": [
    {
     "name": "stdout",
     "output_type": "stream",
     "text": [
      "layer flatten has shape 0\n",
      "[]\n",
      "layer dense has shape 2\n",
      "[array([[ 0.03147107,  0.0511123 , -0.00075412, ..., -0.00417928,\n",
      "         0.06780645, -0.06641316],\n",
      "       [ 0.02808616,  0.06236564, -0.00326614, ..., -0.07383895,\n",
      "        -0.05229361, -0.05344515],\n",
      "       [ 0.05811631,  0.04111487, -0.01129168, ...,  0.01914656,\n",
      "        -0.05923739, -0.06187322],\n",
      "       ...,\n",
      "       [ 0.02812327,  0.02993128,  0.02341998, ..., -0.06805235,\n",
      "        -0.04874685,  0.02571452],\n",
      "       [-0.06005896,  0.01073726,  0.02184977, ..., -0.04554587,\n",
      "        -0.02107967, -0.06919031],\n",
      "       [ 0.06595428,  0.03809281, -0.00308322, ...,  0.00077123,\n",
      "        -0.05640077, -0.00426779]], dtype=float32), array([ 0.0914081 , -0.04778704, -0.03216522,  0.08161183,  0.04919337,\n",
      "       -0.02955594,  0.01526383,  0.04835615,  0.03565539,  0.08780377,\n",
      "       -0.10712697,  0.04091448,  0.08404641, -0.10451963,  0.13569978,\n",
      "        0.00220698,  0.09778018,  0.03711326, -0.01669465,  0.07028593,\n",
      "       -0.03383449, -0.04392133, -0.01915503,  0.17778687, -0.16385865,\n",
      "        0.07965697, -0.08579534,  0.03944245, -0.03569032,  0.12718892,\n",
      "       -0.08826911,  0.05752129,  0.05932668, -0.08210167,  0.11521441,\n",
      "        0.2226004 ,  0.01226224,  0.00169561,  0.07087266,  0.14823768,\n",
      "       -0.02601109,  0.10278253,  0.20031263,  0.24156347,  0.0204198 ,\n",
      "        0.13234441,  0.09474339,  0.0034182 , -0.10227761, -0.0175361 ,\n",
      "        0.06955641,  0.02274952, -0.04103206,  0.06371626,  0.13405716,\n",
      "       -0.2099459 ,  0.06277689,  0.07313783,  0.03083628, -0.03962948,\n",
      "        0.15609026, -0.06491544,  0.01206173,  0.1982225 ,  0.00071816,\n",
      "       -0.01880877,  0.10176776,  0.01962139,  0.03119158, -0.10311752,\n",
      "       -0.09238146, -0.02587545,  0.00925932,  0.0763915 ,  0.10188387,\n",
      "        0.21596166,  0.06125347,  0.00877765,  0.0526205 ,  0.01714962,\n",
      "        0.11857471,  0.07520061,  0.10281738,  0.04112428, -0.0536124 ,\n",
      "        0.14713009, -0.03179141,  0.03934277,  0.15064982, -0.0233109 ,\n",
      "        0.07762969,  0.0716748 , -0.03397689, -0.10491175, -0.04379287,\n",
      "        0.07393795,  0.04705623,  0.04117348,  0.06643207, -0.00567157,\n",
      "       -0.08105404,  0.07180424, -0.01029896, -0.07780398,  0.0549401 ,\n",
      "       -0.01162084, -0.09782496,  0.31142682,  0.16756444,  0.21156769,\n",
      "       -0.0012077 , -0.04957702,  0.06482622,  0.04903595,  0.0845976 ,\n",
      "        0.05907306,  0.08094452, -0.02359625,  0.14852941,  0.02732566,\n",
      "        0.19791041, -0.02722101, -0.01779413,  0.1405414 , -0.09880424,\n",
      "        0.09615708, -0.04890152,  0.04199763], dtype=float32)]\n",
      "layer dense_1 has shape 2\n",
      "[array([[ 0.30566075,  0.4542347 ,  0.19506258, ..., -0.2932218 ,\n",
      "         0.39806893,  0.1460232 ],\n",
      "       [-0.2758986 , -0.1427335 ,  0.18073748, ...,  0.28034598,\n",
      "         0.28971595,  0.08345458],\n",
      "       [-0.48294055, -0.13517179, -0.7236317 , ...,  0.30427942,\n",
      "        -0.4690708 ,  0.26735204],\n",
      "       ...,\n",
      "       [ 0.12006842, -0.12220674,  0.27098015, ...,  0.19008797,\n",
      "         0.5834666 , -0.00159093],\n",
      "       [ 0.37500823, -0.1524887 , -0.55954057, ...,  0.11953669,\n",
      "        -0.10827457, -0.29708236],\n",
      "       [-0.234851  ,  0.27585563,  0.2742187 , ...,  0.12792303,\n",
      "         0.07490022,  0.20427278]], dtype=float32), array([-0.08749998, -0.05498329, -0.00854989, -0.08730119,  0.02126144,\n",
      "        0.00974645,  0.02124454, -0.08100767,  0.17505501,  0.00513884],\n",
      "      dtype=float32)]\n"
     ]
    }
   ],
   "source": [
    "for layer in model.layers:\n",
    "    if layer.get_weights() == None:\n",
    "        continue\n",
    "        \n",
    "    print(f\"layer {layer.name} has shape {len(layer.get_weights())}\")\n",
    "    print(layer.get_weights())"
   ]
  },
  {
   "cell_type": "code",
   "execution_count": null,
   "metadata": {},
   "outputs": [],
   "source": []
  }
 ],
 "metadata": {
  "kernelspec": {
   "display_name": "Python 3",
   "language": "python",
   "name": "python3"
  },
  "language_info": {
   "codemirror_mode": {
    "name": "ipython",
    "version": 3
   },
   "file_extension": ".py",
   "mimetype": "text/x-python",
   "name": "python",
   "nbconvert_exporter": "python",
   "pygments_lexer": "ipython3",
   "version": "3.8.2"
  }
 },
 "nbformat": 4,
 "nbformat_minor": 4
}
