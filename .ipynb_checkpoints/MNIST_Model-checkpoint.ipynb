{
 "cells": [
  {
   "cell_type": "markdown",
   "metadata": {},
   "source": [
    "# Basic MNIST Model\n",
    "For testing the **NodeAnalysis** python library"
   ]
  },
  {
   "cell_type": "code",
   "execution_count": 1,
   "metadata": {
    "scrolled": true
   },
   "outputs": [
    {
     "name": "stderr",
     "output_type": "stream",
     "text": [
      "Using TensorFlow backend.\n"
     ]
    }
   ],
   "source": [
    "import tensorflow as tf\n",
    "from tensorflow import keras\n",
    "from keras.models import Sequential\n",
    "from keras.layers.core import Dense, Dropout, Activation\n",
    "from keras.utils import np_utils\n",
    "from keras.datasets import mnist\n",
    "\n",
    "from sklearn.preprocessing import LabelEncoder\n",
    "\n",
    "from nodeanalysis.GetWeights import GetWeights as GW\n",
    "from nodeanalysis.GetWeights import print_node_params\n",
    "from nodeanalysis.NodeAnalysis import NodeAnalysisCallback as nac"
   ]
  },
  {
   "cell_type": "markdown",
   "metadata": {},
   "source": [
    "## MNIST Dataset \n",
    "### Load Dataset"
   ]
  },
  {
   "cell_type": "code",
   "execution_count": 2,
   "metadata": {},
   "outputs": [],
   "source": [
    "(X_train, y_train), (X_test, y_test) = mnist.load_data()"
   ]
  },
  {
   "cell_type": "code",
   "execution_count": 3,
   "metadata": {},
   "outputs": [
    {
     "name": "stdout",
     "output_type": "stream",
     "text": [
      "X_train.shape = (60000, 28, 28)\n",
      "y_train.shape = (60000,)\n",
      "X_test.shape = (10000, 28, 28)\n",
      "y_test.shape = (10000,)\n"
     ]
    }
   ],
   "source": [
    "print(f'X_train.shape = {X_train.shape}')\n",
    "print(f'y_train.shape = {y_train.shape}')\n",
    "print(f'X_test.shape = {X_test.shape}')\n",
    "print(f'y_test.shape = {y_test.shape}')"
   ]
  },
  {
   "cell_type": "markdown",
   "metadata": {},
   "source": [
    "### Pre-Processing\n",
    "#### Normalization"
   ]
  },
  {
   "cell_type": "code",
   "execution_count": 4,
   "metadata": {},
   "outputs": [
    {
     "name": "stdout",
     "output_type": "stream",
     "text": [
      "sample X_train: \n",
      "[[0. 0. 0. 0. 0. 0. 0. 0. 0. 0. 0. 0. 0. 0. 0. 0. 0. 0. 0. 0. 0. 0. 0. 0.\n",
      "  0. 0. 0. 0.]\n",
      " [0. 0. 0. 0. 0. 0. 0. 0. 0. 0. 0. 0. 0. 0. 0. 0. 0. 0. 0. 0. 0. 0. 0. 0.\n",
      "  0. 0. 0. 0.]\n",
      " [0. 0. 0. 0. 0. 0. 0. 0. 0. 0. 0. 0. 0. 0. 0. 0. 0. 0. 0. 0. 0. 0. 0. 0.\n",
      "  0. 0. 0. 0.]\n",
      " [0. 0. 0. 0. 0. 0. 0. 0. 0. 0. 0. 0. 0. 0. 0. 0. 0. 0. 0. 0. 0. 0. 0. 0.\n",
      "  0. 0. 0. 0.]\n",
      " [0. 0. 0. 0. 0. 0. 0. 0. 0. 0. 0. 0. 0. 0. 0. 0. 0. 0. 0. 0. 0. 0. 0. 0.\n",
      "  0. 0. 0. 0.]]\n",
      "\n",
      "sample X_test: \n",
      "[[0. 0. 0. 0. 0. 0. 0. 0. 0. 0. 0. 0. 0. 0. 0. 0. 0. 0. 0. 0. 0. 0. 0. 0.\n",
      "  0. 0. 0. 0.]\n",
      " [0. 0. 0. 0. 0. 0. 0. 0. 0. 0. 0. 0. 0. 0. 0. 0. 0. 0. 0. 0. 0. 0. 0. 0.\n",
      "  0. 0. 0. 0.]\n",
      " [0. 0. 0. 0. 0. 0. 0. 0. 0. 0. 0. 0. 0. 0. 0. 0. 0. 0. 0. 0. 0. 0. 0. 0.\n",
      "  0. 0. 0. 0.]\n",
      " [0. 0. 0. 0. 0. 0. 0. 0. 0. 0. 0. 0. 0. 0. 0. 0. 0. 0. 0. 0. 0. 0. 0. 0.\n",
      "  0. 0. 0. 0.]\n",
      " [0. 0. 0. 0. 0. 0. 0. 0. 0. 0. 0. 0. 0. 0. 0. 0. 0. 0. 0. 0. 0. 0. 0. 0.\n",
      "  0. 0. 0. 0.]]\n"
     ]
    }
   ],
   "source": [
    "X_train = X_train / 255\n",
    "X_test = X_test / 255\n",
    "\n",
    "print(f'sample X_train: \\n{X_train[0][:5][:5]}\\n')\n",
    "print(f'sample X_test: \\n{X_test[0][:5][:5]}')"
   ]
  },
  {
   "cell_type": "markdown",
   "metadata": {},
   "source": [
    "#### Label Encoding"
   ]
  },
  {
   "cell_type": "code",
   "execution_count": 5,
   "metadata": {},
   "outputs": [
    {
     "name": "stdout",
     "output_type": "stream",
     "text": [
      "sample y_train_encoded = [5 0 4 1 9]\n",
      "classes = [0 1 2 3 4 5 6 7 8 9] n = 10\n"
     ]
    }
   ],
   "source": [
    "encoder = LabelEncoder()\n",
    "encoder.fit(y_train)\n",
    "\n",
    "y_train_encoded = encoder.transform(y_train)\n",
    "y_classes = encoder.classes_\n",
    "y_n = len(y_classes)\n",
    "\n",
    "print(f'sample y_train_encoded = {y_train_encoded[:5]}')\n",
    "print(f'classes = {y_classes} n = {y_n}')"
   ]
  },
  {
   "cell_type": "markdown",
   "metadata": {},
   "source": [
    "## Model\n",
    "### Create Model"
   ]
  },
  {
   "cell_type": "code",
   "execution_count": 6,
   "metadata": {},
   "outputs": [
    {
     "name": "stdout",
     "output_type": "stream",
     "text": [
      "Model: \"sequential\"\n",
      "_________________________________________________________________\n",
      "Layer (type)                 Output Shape              Param #   \n",
      "=================================================================\n",
      "flatten (Flatten)            (None, 784)               0         \n",
      "_________________________________________________________________\n",
      "dense (Dense)                (None, 128)               100480    \n",
      "_________________________________________________________________\n",
      "dense_1 (Dense)              (None, 10)                1290      \n",
      "=================================================================\n",
      "Total params: 101,770\n",
      "Trainable params: 101,770\n",
      "Non-trainable params: 0\n",
      "_________________________________________________________________\n"
     ]
    }
   ],
   "source": [
    "model = tf.keras.models.Sequential([\n",
    "  tf.keras.layers.Flatten(input_shape=(28, 28, 1)),\n",
    "  tf.keras.layers.Dense(128,activation='relu'),\n",
    "  tf.keras.layers.Dense(10, activation='softmax')\n",
    "])\n",
    "model.compile(\n",
    "    loss='sparse_categorical_crossentropy',\n",
    "    optimizer=tf.keras.optimizers.Adam(0.001),\n",
    "    metrics=['accuracy'],\n",
    ")\n",
    "\n",
    "model.summary()"
   ]
  },
  {
   "cell_type": "markdown",
   "metadata": {},
   "source": [
    "### Train Model "
   ]
  },
  {
   "cell_type": "markdown",
   "metadata": {},
   "source": [
    "#### NodeAnalysis Callback"
   ]
  },
  {
   "cell_type": "code",
   "execution_count": 7,
   "metadata": {
    "scrolled": true
   },
   "outputs": [],
   "source": [
    "gw = nac()"
   ]
  },
  {
   "cell_type": "markdown",
   "metadata": {},
   "source": [
    "#### Train Model"
   ]
  },
  {
   "cell_type": "code",
   "execution_count": 8,
   "metadata": {},
   "outputs": [
    {
     "name": "stdout",
     "output_type": "stream",
     "text": [
      "Epoch 1/5\n",
      "469/469 [==============================] - 3s 7ms/step - loss: 0.3605 - accuracy: 0.9021 - val_loss: 0.2012 - val_accuracy: 0.9419\n",
      "Epoch 2/5\n",
      "469/469 [==============================] - 2s 5ms/step - loss: 0.1655 - accuracy: 0.9528 - val_loss: 0.1430 - val_accuracy: 0.9580\n",
      "Epoch 3/5\n",
      "469/469 [==============================] - 2s 5ms/step - loss: 0.1208 - accuracy: 0.9647 - val_loss: 0.1151 - val_accuracy: 0.9652\n",
      "Epoch 4/5\n",
      "469/469 [==============================] - 2s 5ms/step - loss: 0.0939 - accuracy: 0.9734 - val_loss: 0.1071 - val_accuracy: 0.9679\n",
      "Epoch 5/5\n",
      "469/469 [==============================] - 2s 4ms/step - loss: 0.0764 - accuracy: 0.9779 - val_loss: 0.0914 - val_accuracy: 0.9725\n"
     ]
    }
   ],
   "source": [
    "history = model.fit(X_train, y_train,\n",
    "        batch_size=128,\n",
    "         epochs=5,\n",
    "         validation_data=(X_test,y_test),\n",
    "         callbacks=[gw])"
   ]
  },
  {
   "cell_type": "markdown",
   "metadata": {},
   "source": [
    "#### Test NodeAnalysis"
   ]
  },
  {
   "cell_type": "code",
   "execution_count": 9,
   "metadata": {
    "scrolled": false
   },
   "outputs": [
    {
     "name": "stdout",
     "output_type": "stream",
     "text": [
      "NODE [name=Node #[1, 1] epoch=0]\n",
      "\t model=<tensorflow.python.keras.engine.sequential.Sequential object at 0x000001F82A808A90>\n",
      "\t layer=<tensorflow.python.keras.layers.core.Dense object at 0x000001F82A808760>\n",
      "\n",
      "\t layer_in = <tensorflow.python.keras.layers.core.Dense object at 0x000001F82A8083D0>\n",
      "\t layer_out = None\n",
      "\n",
      "\t weight = 0.007414881139993668\n",
      "\t bias = 0.049699828028678894\n",
      "\t activation = [<function softmax at 0x000001F817735790>]\n",
      "\n",
      "IN DEVELOPMENT\n",
      "\t operation_in = None\n",
      "\t operation_out = None\n",
      "\t input_nodes = 0\n",
      "\t output_nodes = 0\n",
      "NODE [name=Node #[1, 1] epoch=1]\n",
      "\t model=<tensorflow.python.keras.engine.sequential.Sequential object at 0x000001F82A808A90>\n",
      "\t layer=<tensorflow.python.keras.layers.core.Dense object at 0x000001F82A808760>\n",
      "\n",
      "\t layer_in = <tensorflow.python.keras.layers.core.Dense object at 0x000001F82A8083D0>\n",
      "\t layer_out = None\n",
      "\n",
      "\t weight = -0.003095845226198435\n",
      "\t bias = 0.049535274505615234\n",
      "\t activation = [<function softmax at 0x000001F817735790>]\n",
      "\n",
      "IN DEVELOPMENT\n",
      "\t operation_in = None\n",
      "\t operation_out = None\n",
      "\t input_nodes = 0\n",
      "\t output_nodes = 0\n",
      "NODE [name=Node #[1, 1] epoch=2]\n",
      "\t model=<tensorflow.python.keras.engine.sequential.Sequential object at 0x000001F82A808A90>\n",
      "\t layer=<tensorflow.python.keras.layers.core.Dense object at 0x000001F82A808760>\n",
      "\n",
      "\t layer_in = <tensorflow.python.keras.layers.core.Dense object at 0x000001F82A8083D0>\n",
      "\t layer_out = None\n",
      "\n",
      "\t weight = -0.012215077877044678\n",
      "\t bias = 0.04604720324277878\n",
      "\t activation = [<function softmax at 0x000001F817735790>]\n",
      "\n",
      "IN DEVELOPMENT\n",
      "\t operation_in = None\n",
      "\t operation_out = None\n",
      "\t input_nodes = 0\n",
      "\t output_nodes = 0\n",
      "NODE [name=Node #[1, 1] epoch=3]\n",
      "\t model=<tensorflow.python.keras.engine.sequential.Sequential object at 0x000001F82A808A90>\n",
      "\t layer=<tensorflow.python.keras.layers.core.Dense object at 0x000001F82A808760>\n",
      "\n",
      "\t layer_in = <tensorflow.python.keras.layers.core.Dense object at 0x000001F82A8083D0>\n",
      "\t layer_out = None\n",
      "\n",
      "\t weight = -0.020825020968914032\n",
      "\t bias = 0.03745147958397865\n",
      "\t activation = [<function softmax at 0x000001F817735790>]\n",
      "\n",
      "IN DEVELOPMENT\n",
      "\t operation_in = None\n",
      "\t operation_out = None\n",
      "\t input_nodes = 0\n",
      "\t output_nodes = 0\n",
      "NODE [name=Node #[1, 1] epoch=4]\n",
      "\t model=<tensorflow.python.keras.engine.sequential.Sequential object at 0x000001F82A808A90>\n",
      "\t layer=<tensorflow.python.keras.layers.core.Dense object at 0x000001F82A808760>\n",
      "\n",
      "\t layer_in = <tensorflow.python.keras.layers.core.Dense object at 0x000001F82A8083D0>\n",
      "\t layer_out = None\n",
      "\n",
      "\t weight = -0.021714268252253532\n",
      "\t bias = 0.03307057544589043\n",
      "\t activation = [<function softmax at 0x000001F817735790>]\n",
      "\n",
      "IN DEVELOPMENT\n",
      "\t operation_in = None\n",
      "\t operation_out = None\n",
      "\t input_nodes = 0\n",
      "\t output_nodes = 0\n"
     ]
    }
   ],
   "source": [
    "#print(gw.weight_dict[gw.layer_names[-1]][\"weights\"].shape)\n",
    "\n",
    "#node on output layer (-1) with [1,1] \n",
    "#last epoch\n",
    "node1 = gw.getNodeHistory(-1,[1,1])\n",
    "\n",
    "for node in node1:\n",
    "    node.report()"
   ]
  },
  {
   "cell_type": "code",
   "execution_count": 10,
   "metadata": {},
   "outputs": [
    {
     "data": {
      "text/plain": [
       "['dense', 'dense_1']"
      ]
     },
     "execution_count": 10,
     "metadata": {},
     "output_type": "execute_result"
    }
   ],
   "source": [
    "gw.nnlayer_names"
   ]
  },
  {
   "cell_type": "code",
   "execution_count": 11,
   "metadata": {},
   "outputs": [
    {
     "data": {
      "text/plain": [
       "['flatten', 'dense', 'dense_1']"
      ]
     },
     "execution_count": 11,
     "metadata": {},
     "output_type": "execute_result"
    }
   ],
   "source": [
    "gw.layer_names"
   ]
  },
  {
   "cell_type": "code",
   "execution_count": 23,
   "metadata": {},
   "outputs": [
    {
     "name": "stdout",
     "output_type": "stream",
     "text": [
      "[0, 1]\n"
     ]
    }
   ],
   "source": [
    "node = gw.getNode(0,[1,1])\n",
    "index_in = -1\n",
    "index_out = -1\n",
    "for x in range(len(gw.layer_names)):\n",
    "    \n",
    "    if node.layer_in == None:\n",
    "        index_in = 1\n",
    "    elif node.layer_in.name == gw.layer_names[x]:\n",
    "        index_in = x\n",
    "\n",
    "    if(node.layer_out == None):\n",
    "        index_out = len(gw.layer_names)\n",
    "    elif node.layer_out.name == gw.layer_names[x]:\n",
    "        index_out = x\n",
    "\n",
    "ops= list(range(index_in, index_out))\n",
    "print(ops)"
   ]
  },
  {
   "cell_type": "code",
   "execution_count": null,
   "metadata": {},
   "outputs": [],
   "source": []
  }
 ],
 "metadata": {
  "kernelspec": {
   "display_name": "Python 3",
   "language": "python",
   "name": "python3"
  },
  "language_info": {
   "codemirror_mode": {
    "name": "ipython",
    "version": 3
   },
   "file_extension": ".py",
   "mimetype": "text/x-python",
   "name": "python",
   "nbconvert_exporter": "python",
   "pygments_lexer": "ipython3",
   "version": "3.8.2"
  }
 },
 "nbformat": 4,
 "nbformat_minor": 4
}
